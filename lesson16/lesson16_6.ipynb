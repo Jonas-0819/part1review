{
 "cells": [
  {
   "cell_type": "code",
   "execution_count": null,
   "metadata": {},
   "outputs": [],
   "source": [
    "import pandas as pd\n",
    "df = pd.read_csv('world.csv')\n",
    "df1 = df.reindex(columns=['洲名','國家','日期','總確診數','新增確診數','總人口數'])\n",
    "df1"
   ]
  },
  {
   "cell_type": "code",
   "execution_count": null,
   "metadata": {},
   "outputs": [],
   "source": [
    "dftw=df1.query('國家==\"台灣\"')\n",
    "dftw"
   ]
  },
  {
   "cell_type": "code",
   "execution_count": 6,
   "metadata": {},
   "outputs": [
    {
     "data": {
      "text/html": [
       "<div>\n",
       "<style scoped>\n",
       "    .dataframe tbody tr th:only-of-type {\n",
       "        vertical-align: middle;\n",
       "    }\n",
       "\n",
       "    .dataframe tbody tr th {\n",
       "        vertical-align: top;\n",
       "    }\n",
       "\n",
       "    .dataframe thead th {\n",
       "        text-align: right;\n",
       "    }\n",
       "</style>\n",
       "<table border=\"1\" class=\"dataframe\">\n",
       "  <thead>\n",
       "    <tr style=\"text-align: right;\">\n",
       "      <th></th>\n",
       "      <th>洲名</th>\n",
       "      <th>國家</th>\n",
       "      <th>日期</th>\n",
       "      <th>總確診數</th>\n",
       "      <th>新增確診數</th>\n",
       "      <th>總人口數</th>\n",
       "    </tr>\n",
       "  </thead>\n",
       "  <tbody>\n",
       "    <tr>\n",
       "      <th>164337</th>\n",
       "      <td>亞洲</td>\n",
       "      <td>台灣</td>\n",
       "      <td>2021-01-01</td>\n",
       "      <td>802</td>\n",
       "      <td>3</td>\n",
       "      <td>23855008</td>\n",
       "    </tr>\n",
       "    <tr>\n",
       "      <th>164338</th>\n",
       "      <td>亞洲</td>\n",
       "      <td>台灣</td>\n",
       "      <td>2021-01-02</td>\n",
       "      <td>808</td>\n",
       "      <td>6</td>\n",
       "      <td>23855008</td>\n",
       "    </tr>\n",
       "    <tr>\n",
       "      <th>164339</th>\n",
       "      <td>亞洲</td>\n",
       "      <td>台灣</td>\n",
       "      <td>2021-01-03</td>\n",
       "      <td>812</td>\n",
       "      <td>4</td>\n",
       "      <td>23855008</td>\n",
       "    </tr>\n",
       "    <tr>\n",
       "      <th>164340</th>\n",
       "      <td>亞洲</td>\n",
       "      <td>台灣</td>\n",
       "      <td>2021-01-04</td>\n",
       "      <td>815</td>\n",
       "      <td>3</td>\n",
       "      <td>23855008</td>\n",
       "    </tr>\n",
       "    <tr>\n",
       "      <th>164341</th>\n",
       "      <td>亞洲</td>\n",
       "      <td>台灣</td>\n",
       "      <td>2021-01-05</td>\n",
       "      <td>817</td>\n",
       "      <td>2</td>\n",
       "      <td>23855008</td>\n",
       "    </tr>\n",
       "    <tr>\n",
       "      <th>...</th>\n",
       "      <td>...</td>\n",
       "      <td>...</td>\n",
       "      <td>...</td>\n",
       "      <td>...</td>\n",
       "      <td>...</td>\n",
       "      <td>...</td>\n",
       "    </tr>\n",
       "    <tr>\n",
       "      <th>164697</th>\n",
       "      <td>亞洲</td>\n",
       "      <td>台灣</td>\n",
       "      <td>2021-12-27</td>\n",
       "      <td>16931</td>\n",
       "      <td>16</td>\n",
       "      <td>23855008</td>\n",
       "    </tr>\n",
       "    <tr>\n",
       "      <th>164698</th>\n",
       "      <td>亞洲</td>\n",
       "      <td>台灣</td>\n",
       "      <td>2021-12-28</td>\n",
       "      <td>16950</td>\n",
       "      <td>19</td>\n",
       "      <td>23855008</td>\n",
       "    </tr>\n",
       "    <tr>\n",
       "      <th>164699</th>\n",
       "      <td>亞洲</td>\n",
       "      <td>台灣</td>\n",
       "      <td>2021-12-29</td>\n",
       "      <td>16964</td>\n",
       "      <td>14</td>\n",
       "      <td>23855008</td>\n",
       "    </tr>\n",
       "    <tr>\n",
       "      <th>164700</th>\n",
       "      <td>亞洲</td>\n",
       "      <td>台灣</td>\n",
       "      <td>2021-12-30</td>\n",
       "      <td>16988</td>\n",
       "      <td>24</td>\n",
       "      <td>23855008</td>\n",
       "    </tr>\n",
       "    <tr>\n",
       "      <th>164701</th>\n",
       "      <td>亞洲</td>\n",
       "      <td>台灣</td>\n",
       "      <td>2021-12-31</td>\n",
       "      <td>17029</td>\n",
       "      <td>41</td>\n",
       "      <td>23855008</td>\n",
       "    </tr>\n",
       "  </tbody>\n",
       "</table>\n",
       "<p>365 rows × 6 columns</p>\n",
       "</div>"
      ],
      "text/plain": [
       "        洲名  國家          日期   總確診數  新增確診數      總人口數\n",
       "164337  亞洲  台灣  2021-01-01    802      3  23855008\n",
       "164338  亞洲  台灣  2021-01-02    808      6  23855008\n",
       "164339  亞洲  台灣  2021-01-03    812      4  23855008\n",
       "164340  亞洲  台灣  2021-01-04    815      3  23855008\n",
       "164341  亞洲  台灣  2021-01-05    817      2  23855008\n",
       "...     ..  ..         ...    ...    ...       ...\n",
       "164697  亞洲  台灣  2021-12-27  16931     16  23855008\n",
       "164698  亞洲  台灣  2021-12-28  16950     19  23855008\n",
       "164699  亞洲  台灣  2021-12-29  16964     14  23855008\n",
       "164700  亞洲  台灣  2021-12-30  16988     24  23855008\n",
       "164701  亞洲  台灣  2021-12-31  17029     41  23855008\n",
       "\n",
       "[365 rows x 6 columns]"
      ]
     },
     "execution_count": 6,
     "metadata": {},
     "output_type": "execute_result"
    }
   ],
   "source": [
    "dftw2021=dftw.query('日期>=\"2021-01-01\"&日期<\"2022-01-01\"')\n",
    "dftw2021"
   ]
  },
  {
   "cell_type": "code",
   "execution_count": null,
   "metadata": {},
   "outputs": [],
   "source": [
    "dftw2021.query('新增確診數>=100')"
   ]
  },
  {
   "cell_type": "code",
   "execution_count": 9,
   "metadata": {},
   "outputs": [
    {
     "data": {
      "text/plain": [
       "128954"
      ]
     },
     "execution_count": 9,
     "metadata": {},
     "output_type": "execute_result"
    }
   ],
   "source": [
    "tw_max=int(dftw['新增確診數'].max())\n",
    "tw_max"
   ]
  },
  {
   "cell_type": "code",
   "execution_count": 10,
   "metadata": {},
   "outputs": [
    {
     "data": {
      "text/html": [
       "<div>\n",
       "<style scoped>\n",
       "    .dataframe tbody tr th:only-of-type {\n",
       "        vertical-align: middle;\n",
       "    }\n",
       "\n",
       "    .dataframe tbody tr th {\n",
       "        vertical-align: top;\n",
       "    }\n",
       "\n",
       "    .dataframe thead th {\n",
       "        text-align: right;\n",
       "    }\n",
       "</style>\n",
       "<table border=\"1\" class=\"dataframe\">\n",
       "  <thead>\n",
       "    <tr style=\"text-align: right;\">\n",
       "      <th></th>\n",
       "      <th>洲名</th>\n",
       "      <th>國家</th>\n",
       "      <th>日期</th>\n",
       "      <th>總確診數</th>\n",
       "      <th>新增確診數</th>\n",
       "      <th>總人口數</th>\n",
       "    </tr>\n",
       "  </thead>\n",
       "  <tbody>\n",
       "    <tr>\n",
       "      <th>164835</th>\n",
       "      <td>亞洲</td>\n",
       "      <td>台灣</td>\n",
       "      <td>2022-05-14</td>\n",
       "      <td>699824</td>\n",
       "      <td>128954</td>\n",
       "      <td>23855008</td>\n",
       "    </tr>\n",
       "  </tbody>\n",
       "</table>\n",
       "</div>"
      ],
      "text/plain": [
       "        洲名  國家          日期    總確診數   新增確診數      總人口數\n",
       "164835  亞洲  台灣  2022-05-14  699824  128954  23855008"
      ]
     },
     "execution_count": 10,
     "metadata": {},
     "output_type": "execute_result"
    }
   ],
   "source": [
    "dftw.query('新增確診數==@tw_max')"
   ]
  }
 ],
 "metadata": {
  "kernelspec": {
   "display_name": "Python 3",
   "language": "python",
   "name": "python3"
  },
  "language_info": {
   "codemirror_mode": {
    "name": "ipython",
    "version": 3
   },
   "file_extension": ".py",
   "mimetype": "text/x-python",
   "name": "python",
   "nbconvert_exporter": "python",
   "pygments_lexer": "ipython3",
   "version": "3.11.11"
  }
 },
 "nbformat": 4,
 "nbformat_minor": 2
}
