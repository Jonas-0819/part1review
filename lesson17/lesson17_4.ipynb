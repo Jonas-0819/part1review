{
 "cells": [
  {
   "cell_type": "code",
   "execution_count": 3,
   "metadata": {},
   "outputs": [
    {
     "name": "stderr",
     "output_type": "stream",
     "text": [
      "[*********************100%***********************]  1 of 1 completed\n"
     ]
    },
    {
     "data": {
      "text/html": [
       "<div>\n",
       "<style scoped>\n",
       "    .dataframe tbody tr th:only-of-type {\n",
       "        vertical-align: middle;\n",
       "    }\n",
       "\n",
       "    .dataframe tbody tr th {\n",
       "        vertical-align: top;\n",
       "    }\n",
       "\n",
       "    .dataframe thead tr th {\n",
       "        text-align: left;\n",
       "    }\n",
       "\n",
       "    .dataframe thead tr:last-of-type th {\n",
       "        text-align: right;\n",
       "    }\n",
       "</style>\n",
       "<table border=\"1\" class=\"dataframe\">\n",
       "  <thead>\n",
       "    <tr>\n",
       "      <th>Price</th>\n",
       "      <th>Close</th>\n",
       "      <th>High</th>\n",
       "      <th>Low</th>\n",
       "      <th>Open</th>\n",
       "      <th>Volume</th>\n",
       "    </tr>\n",
       "    <tr>\n",
       "      <th>Ticker</th>\n",
       "      <th>AAPL</th>\n",
       "      <th>AAPL</th>\n",
       "      <th>AAPL</th>\n",
       "      <th>AAPL</th>\n",
       "      <th>AAPL</th>\n",
       "    </tr>\n",
       "    <tr>\n",
       "      <th>Date</th>\n",
       "      <th></th>\n",
       "      <th></th>\n",
       "      <th></th>\n",
       "      <th></th>\n",
       "      <th></th>\n",
       "    </tr>\n",
       "  </thead>\n",
       "  <tbody>\n",
       "    <tr>\n",
       "      <th>1980-12-12</th>\n",
       "      <td>0.098834</td>\n",
       "      <td>0.099264</td>\n",
       "      <td>0.098834</td>\n",
       "      <td>0.098834</td>\n",
       "      <td>469033600</td>\n",
       "    </tr>\n",
       "    <tr>\n",
       "      <th>1980-12-15</th>\n",
       "      <td>0.093678</td>\n",
       "      <td>0.094108</td>\n",
       "      <td>0.093678</td>\n",
       "      <td>0.094108</td>\n",
       "      <td>175884800</td>\n",
       "    </tr>\n",
       "    <tr>\n",
       "      <th>1980-12-16</th>\n",
       "      <td>0.086802</td>\n",
       "      <td>0.087232</td>\n",
       "      <td>0.086802</td>\n",
       "      <td>0.087232</td>\n",
       "      <td>105728000</td>\n",
       "    </tr>\n",
       "    <tr>\n",
       "      <th>1980-12-17</th>\n",
       "      <td>0.088951</td>\n",
       "      <td>0.089381</td>\n",
       "      <td>0.088951</td>\n",
       "      <td>0.088951</td>\n",
       "      <td>86441600</td>\n",
       "    </tr>\n",
       "    <tr>\n",
       "      <th>1980-12-18</th>\n",
       "      <td>0.091530</td>\n",
       "      <td>0.091959</td>\n",
       "      <td>0.091530</td>\n",
       "      <td>0.091530</td>\n",
       "      <td>73449600</td>\n",
       "    </tr>\n",
       "    <tr>\n",
       "      <th>...</th>\n",
       "      <td>...</td>\n",
       "      <td>...</td>\n",
       "      <td>...</td>\n",
       "      <td>...</td>\n",
       "      <td>...</td>\n",
       "    </tr>\n",
       "    <tr>\n",
       "      <th>2025-01-29</th>\n",
       "      <td>239.360001</td>\n",
       "      <td>239.860001</td>\n",
       "      <td>234.009995</td>\n",
       "      <td>234.119995</td>\n",
       "      <td>45486100</td>\n",
       "    </tr>\n",
       "    <tr>\n",
       "      <th>2025-01-30</th>\n",
       "      <td>237.589996</td>\n",
       "      <td>240.789993</td>\n",
       "      <td>237.210007</td>\n",
       "      <td>238.669998</td>\n",
       "      <td>55658300</td>\n",
       "    </tr>\n",
       "    <tr>\n",
       "      <th>2025-01-31</th>\n",
       "      <td>236.000000</td>\n",
       "      <td>247.190002</td>\n",
       "      <td>233.440002</td>\n",
       "      <td>247.190002</td>\n",
       "      <td>101075100</td>\n",
       "    </tr>\n",
       "    <tr>\n",
       "      <th>2025-02-03</th>\n",
       "      <td>228.009995</td>\n",
       "      <td>231.830002</td>\n",
       "      <td>225.699997</td>\n",
       "      <td>229.990005</td>\n",
       "      <td>72896300</td>\n",
       "    </tr>\n",
       "    <tr>\n",
       "      <th>2025-02-04</th>\n",
       "      <td>232.800003</td>\n",
       "      <td>233.130005</td>\n",
       "      <td>226.649994</td>\n",
       "      <td>227.199997</td>\n",
       "      <td>44489128</td>\n",
       "    </tr>\n",
       "  </tbody>\n",
       "</table>\n",
       "<p>11127 rows × 5 columns</p>\n",
       "</div>"
      ],
      "text/plain": [
       "Price            Close        High         Low        Open     Volume\n",
       "Ticker            AAPL        AAPL        AAPL        AAPL       AAPL\n",
       "Date                                                                 \n",
       "1980-12-12    0.098834    0.099264    0.098834    0.098834  469033600\n",
       "1980-12-15    0.093678    0.094108    0.093678    0.094108  175884800\n",
       "1980-12-16    0.086802    0.087232    0.086802    0.087232  105728000\n",
       "1980-12-17    0.088951    0.089381    0.088951    0.088951   86441600\n",
       "1980-12-18    0.091530    0.091959    0.091530    0.091530   73449600\n",
       "...                ...         ...         ...         ...        ...\n",
       "2025-01-29  239.360001  239.860001  234.009995  234.119995   45486100\n",
       "2025-01-30  237.589996  240.789993  237.210007  238.669998   55658300\n",
       "2025-01-31  236.000000  247.190002  233.440002  247.190002  101075100\n",
       "2025-02-03  228.009995  231.830002  225.699997  229.990005   72896300\n",
       "2025-02-04  232.800003  233.130005  226.649994  227.199997   44489128\n",
       "\n",
       "[11127 rows x 5 columns]"
      ]
     },
     "execution_count": 3,
     "metadata": {},
     "output_type": "execute_result"
    }
   ],
   "source": [
    "import pandas_datareader.data as pdr\n",
    "import yfinance as yf\n",
    "\n",
    "#yf.pdr_override()\n",
    "#pdr.get_data_yahoo('AAPL')\n",
    "yf.download('AAPL')"
   ]
  },
  {
   "cell_type": "code",
   "execution_count": 4,
   "metadata": {},
   "outputs": [
    {
     "name": "stderr",
     "output_type": "stream",
     "text": [
      "[*********************100%***********************]  1 of 1 completed\n"
     ]
    },
    {
     "data": {
      "text/html": [
       "<div>\n",
       "<style scoped>\n",
       "    .dataframe tbody tr th:only-of-type {\n",
       "        vertical-align: middle;\n",
       "    }\n",
       "\n",
       "    .dataframe tbody tr th {\n",
       "        vertical-align: top;\n",
       "    }\n",
       "\n",
       "    .dataframe thead tr th {\n",
       "        text-align: left;\n",
       "    }\n",
       "\n",
       "    .dataframe thead tr:last-of-type th {\n",
       "        text-align: right;\n",
       "    }\n",
       "</style>\n",
       "<table border=\"1\" class=\"dataframe\">\n",
       "  <thead>\n",
       "    <tr>\n",
       "      <th>Price</th>\n",
       "      <th>Close</th>\n",
       "      <th>High</th>\n",
       "      <th>Low</th>\n",
       "      <th>Open</th>\n",
       "      <th>Volume</th>\n",
       "    </tr>\n",
       "    <tr>\n",
       "      <th>Ticker</th>\n",
       "      <th>2330.TW</th>\n",
       "      <th>2330.TW</th>\n",
       "      <th>2330.TW</th>\n",
       "      <th>2330.TW</th>\n",
       "      <th>2330.TW</th>\n",
       "    </tr>\n",
       "    <tr>\n",
       "      <th>Date</th>\n",
       "      <th></th>\n",
       "      <th></th>\n",
       "      <th></th>\n",
       "      <th></th>\n",
       "      <th></th>\n",
       "    </tr>\n",
       "  </thead>\n",
       "  <tbody>\n",
       "    <tr>\n",
       "      <th>2000-01-04</th>\n",
       "      <td>34.085976</td>\n",
       "      <td>34.085976</td>\n",
       "      <td>33.511497</td>\n",
       "      <td>34.085976</td>\n",
       "      <td>200662336736</td>\n",
       "    </tr>\n",
       "    <tr>\n",
       "      <th>2000-01-05</th>\n",
       "      <td>34.851887</td>\n",
       "      <td>34.851887</td>\n",
       "      <td>33.702930</td>\n",
       "      <td>34.085977</td>\n",
       "      <td>402466805912</td>\n",
       "    </tr>\n",
       "    <tr>\n",
       "      <th>2000-01-06</th>\n",
       "      <td>34.085976</td>\n",
       "      <td>34.851886</td>\n",
       "      <td>34.085976</td>\n",
       "      <td>34.660454</td>\n",
       "      <td>197545715802</td>\n",
       "    </tr>\n",
       "    <tr>\n",
       "      <th>2000-01-07</th>\n",
       "      <td>33.128460</td>\n",
       "      <td>33.511507</td>\n",
       "      <td>32.553981</td>\n",
       "      <td>32.937028</td>\n",
       "      <td>235270344752</td>\n",
       "    </tr>\n",
       "    <tr>\n",
       "      <th>2000-01-10</th>\n",
       "      <td>34.277412</td>\n",
       "      <td>34.468844</td>\n",
       "      <td>33.511502</td>\n",
       "      <td>34.085981</td>\n",
       "      <td>276171685539</td>\n",
       "    </tr>\n",
       "    <tr>\n",
       "      <th>...</th>\n",
       "      <td>...</td>\n",
       "      <td>...</td>\n",
       "      <td>...</td>\n",
       "      <td>...</td>\n",
       "      <td>...</td>\n",
       "    </tr>\n",
       "    <tr>\n",
       "      <th>2025-01-20</th>\n",
       "      <td>1120.000000</td>\n",
       "      <td>1135.000000</td>\n",
       "      <td>1120.000000</td>\n",
       "      <td>1125.000000</td>\n",
       "      <td>29834528</td>\n",
       "    </tr>\n",
       "    <tr>\n",
       "      <th>2025-01-21</th>\n",
       "      <td>1120.000000</td>\n",
       "      <td>1125.000000</td>\n",
       "      <td>1110.000000</td>\n",
       "      <td>1115.000000</td>\n",
       "      <td>21904213</td>\n",
       "    </tr>\n",
       "    <tr>\n",
       "      <th>2025-01-22</th>\n",
       "      <td>1135.000000</td>\n",
       "      <td>1150.000000</td>\n",
       "      <td>1135.000000</td>\n",
       "      <td>1140.000000</td>\n",
       "      <td>42960405</td>\n",
       "    </tr>\n",
       "    <tr>\n",
       "      <th>2025-02-03</th>\n",
       "      <td>1070.000000</td>\n",
       "      <td>1075.000000</td>\n",
       "      <td>1060.000000</td>\n",
       "      <td>1065.000000</td>\n",
       "      <td>97946226</td>\n",
       "    </tr>\n",
       "    <tr>\n",
       "      <th>2025-02-05</th>\n",
       "      <td>1110.000000</td>\n",
       "      <td>1120.000000</td>\n",
       "      <td>1105.000000</td>\n",
       "      <td>1110.000000</td>\n",
       "      <td>41740183</td>\n",
       "    </tr>\n",
       "  </tbody>\n",
       "</table>\n",
       "<p>6244 rows × 5 columns</p>\n",
       "</div>"
      ],
      "text/plain": [
       "Price             Close         High          Low         Open        Volume\n",
       "Ticker          2330.TW      2330.TW      2330.TW      2330.TW       2330.TW\n",
       "Date                                                                        \n",
       "2000-01-04    34.085976    34.085976    33.511497    34.085976  200662336736\n",
       "2000-01-05    34.851887    34.851887    33.702930    34.085977  402466805912\n",
       "2000-01-06    34.085976    34.851886    34.085976    34.660454  197545715802\n",
       "2000-01-07    33.128460    33.511507    32.553981    32.937028  235270344752\n",
       "2000-01-10    34.277412    34.468844    33.511502    34.085981  276171685539\n",
       "...                 ...          ...          ...          ...           ...\n",
       "2025-01-20  1120.000000  1135.000000  1120.000000  1125.000000      29834528\n",
       "2025-01-21  1120.000000  1125.000000  1110.000000  1115.000000      21904213\n",
       "2025-01-22  1135.000000  1150.000000  1135.000000  1140.000000      42960405\n",
       "2025-02-03  1070.000000  1075.000000  1060.000000  1065.000000      97946226\n",
       "2025-02-05  1110.000000  1120.000000  1105.000000  1110.000000      41740183\n",
       "\n",
       "[6244 rows x 5 columns]"
      ]
     },
     "execution_count": 4,
     "metadata": {},
     "output_type": "execute_result"
    }
   ],
   "source": [
    "#台積電(2330.TW),聯電(2303.TW),聯發科(2454.TW),鴻海(2317.TW)\n",
    "yf.download('2330.TW')"
   ]
  },
  {
   "cell_type": "code",
   "execution_count": 5,
   "metadata": {},
   "outputs": [
    {
     "name": "stderr",
     "output_type": "stream",
     "text": [
      "[*********************100%***********************]  1 of 1 completed\n",
      "[*********************100%***********************]  1 of 1 completed\n",
      "[*********************100%***********************]  1 of 1 completed\n",
      "[*********************100%***********************]  1 of 1 completed\n"
     ]
    },
    {
     "data": {
      "text/plain": [
       "{'2330.TW': Price             Close         High          Low         Open        Volume\n",
       " Ticker          2330.TW      2330.TW      2330.TW      2330.TW       2330.TW\n",
       " Date                                                                        \n",
       " 2000-01-04    34.085976    34.085976    33.511497    34.085976  200662336736\n",
       " 2000-01-05    34.851891    34.851891    33.702934    34.085980  402466805912\n",
       " 2000-01-06    34.085976    34.851886    34.085976    34.660454  197545715802\n",
       " 2000-01-07    33.128468    33.511514    32.553989    32.937036  235270344752\n",
       " 2000-01-10    34.277412    34.468844    33.511502    34.085981  276171685539\n",
       " ...                 ...          ...          ...          ...           ...\n",
       " 2025-01-20  1120.000000  1135.000000  1120.000000  1125.000000      29834528\n",
       " 2025-01-21  1120.000000  1125.000000  1110.000000  1115.000000      21904213\n",
       " 2025-01-22  1135.000000  1150.000000  1135.000000  1140.000000      42960405\n",
       " 2025-02-03  1070.000000  1075.000000  1060.000000  1065.000000      97946226\n",
       " 2025-02-05  1110.000000  1120.000000  1105.000000  1110.000000      41740183\n",
       " \n",
       " [6244 rows x 5 columns],\n",
       " '2303.TW': Price           Close       High        Low       Open     Volume\n",
       " Ticker        2303.TW    2303.TW    2303.TW    2303.TW    2303.TW\n",
       " Date                                                             \n",
       " 2000-01-04  19.995144  20.163878  19.404569  19.742041  332630460\n",
       " 2000-01-05  19.910782  19.995148  19.404573  19.573309  292754299\n",
       " 2000-01-06  19.488945  19.910784  19.404575  19.910784  248928848\n",
       " 2000-01-07  18.898363  19.151466  18.392156  18.982729  269228882\n",
       " 2000-01-10  19.404573  19.573310  18.054692  18.054692  380487972\n",
       " ...               ...        ...        ...        ...        ...\n",
       " 2025-01-20  42.750000  42.750000  41.500000  41.549999   47283878\n",
       " 2025-01-21  42.950001  43.299999  42.400002  42.750000   42221204\n",
       " 2025-01-22  40.200001  40.549999  39.700001  39.700001  147906733\n",
       " 2025-02-03  40.500000  41.650002  40.000000  40.200001  112180567\n",
       " 2025-02-05  40.099998  40.650002  40.099998  40.400002   34068651\n",
       " \n",
       " [6244 rows x 5 columns],\n",
       " '2454.TW': Price             Close         High          Low         Open     Volume\n",
       " Ticker          2454.TW      2454.TW      2454.TW      2454.TW    2454.TW\n",
       " Date                                                                     \n",
       " 2001-07-23    27.404465    27.404465    27.404465    27.404465     463095\n",
       " 2001-07-24    29.157515    29.250383    28.421981    28.975488  238341541\n",
       " 2001-07-25    31.189499    31.189499    29.157504    29.157504   94092605\n",
       " 2001-07-26    33.310669    33.310669    32.017919    32.296527   64114300\n",
       " 2001-07-27    33.217796    34.696289    33.032057    34.142782   60369077\n",
       " ...                 ...          ...          ...          ...        ...\n",
       " 2025-01-20  1445.000000  1455.000000  1425.000000  1425.000000    3956489\n",
       " 2025-01-21  1465.000000  1475.000000  1435.000000  1440.000000    4428280\n",
       " 2025-01-22  1465.000000  1495.000000  1465.000000  1480.000000    6502859\n",
       " 2025-02-03  1500.000000  1525.000000  1415.000000  1420.000000   18533177\n",
       " 2025-02-05  1525.000000  1530.000000  1490.000000  1505.000000    9261870\n",
       " \n",
       " [5840 rows x 5 columns],\n",
       " '2317.TW': Price            Close        High         Low        Open     Volume\n",
       " Ticker         2317.TW     2317.TW     2317.TW     2317.TW    2317.TW\n",
       " Date                                                                 \n",
       " 1993-01-05    0.399521    0.407075    0.397003    0.399521   33478780\n",
       " 1993-01-06    0.392806    0.398682    0.389449    0.398682   46846584\n",
       " 1993-01-07    0.391128    0.398682    0.389449    0.392806   44447315\n",
       " 1993-01-08    0.379377    0.396164    0.376020    0.396164   43699448\n",
       " 1993-01-11    0.381895    0.387770    0.378538    0.378538   14068903\n",
       " ...                ...         ...         ...         ...        ...\n",
       " 2025-01-20  178.000000  178.000000  174.500000  174.500000   33266229\n",
       " 2025-01-21  178.500000  180.000000  177.000000  178.500000   31745824\n",
       " 2025-01-22  180.000000  181.000000  178.500000  180.500000   43634401\n",
       " 2025-02-03  165.500000  168.000000  163.500000  164.000000  155112848\n",
       " 2025-02-05  171.000000  171.500000  167.000000  167.000000   51868404\n",
       " \n",
       " [8069 rows x 5 columns]}"
      ]
     },
     "execution_count": 5,
     "metadata": {},
     "output_type": "execute_result"
    }
   ],
   "source": [
    "all_data={ticker:yf.download(ticker) for ticker in ['2330.TW','2303.TW','2454.TW','2317.TW']}\n",
    "all_data"
   ]
  },
  {
   "cell_type": "code",
   "execution_count": 6,
   "metadata": {},
   "outputs": [
    {
     "name": "stdout",
     "output_type": "stream",
     "text": [
      "2330 台積電\n",
      "2303 聯電\n"
     ]
    }
   ],
   "source": [
    "for key,data in {'2330':'台積電','2303':'聯電'}.items():\n",
    "    print(key,data)"
   ]
  },
  {
   "cell_type": "code",
   "execution_count": 11,
   "metadata": {},
   "outputs": [
    {
     "ename": "ValueError",
     "evalue": "If using all scalar values, you must pass an index",
     "output_type": "error",
     "traceback": [
      "\u001b[0;31m---------------------------------------------------------------------------\u001b[0m",
      "\u001b[0;31mValueError\u001b[0m                                Traceback (most recent call last)",
      "Cell \u001b[0;32mIn[11], line 3\u001b[0m\n\u001b[1;32m      1\u001b[0m \u001b[38;5;28;01mimport\u001b[39;00m\u001b[38;5;250m \u001b[39m\u001b[38;5;21;01mpandas\u001b[39;00m\u001b[38;5;250m \u001b[39m\u001b[38;5;28;01mas\u001b[39;00m\u001b[38;5;250m \u001b[39m\u001b[38;5;21;01mpd\u001b[39;00m\n\u001b[1;32m      2\u001b[0m all_data1 \u001b[38;5;241m=\u001b[39m {ticker:df[\u001b[38;5;124m'\u001b[39m\u001b[38;5;124mOpen\u001b[39m\u001b[38;5;124m'\u001b[39m] \u001b[38;5;28;01mfor\u001b[39;00m ticker,df \u001b[38;5;129;01min\u001b[39;00m all_data\u001b[38;5;241m.\u001b[39mitems()}\n\u001b[0;32m----> 3\u001b[0m prices_df \u001b[38;5;241m=\u001b[39m \u001b[43mpd\u001b[49m\u001b[38;5;241;43m.\u001b[39;49m\u001b[43mDataFrame\u001b[49m\u001b[43m(\u001b[49m\u001b[43mall_data1\u001b[49m\u001b[43m)\u001b[49m\n\u001b[1;32m      4\u001b[0m prices_df\n",
      "File \u001b[0;32m~/.local/lib/python3.11/site-packages/pandas/core/frame.py:778\u001b[0m, in \u001b[0;36mDataFrame.__init__\u001b[0;34m(self, data, index, columns, dtype, copy)\u001b[0m\n\u001b[1;32m    772\u001b[0m     mgr \u001b[38;5;241m=\u001b[39m \u001b[38;5;28mself\u001b[39m\u001b[38;5;241m.\u001b[39m_init_mgr(\n\u001b[1;32m    773\u001b[0m         data, axes\u001b[38;5;241m=\u001b[39m{\u001b[38;5;124m\"\u001b[39m\u001b[38;5;124mindex\u001b[39m\u001b[38;5;124m\"\u001b[39m: index, \u001b[38;5;124m\"\u001b[39m\u001b[38;5;124mcolumns\u001b[39m\u001b[38;5;124m\"\u001b[39m: columns}, dtype\u001b[38;5;241m=\u001b[39mdtype, copy\u001b[38;5;241m=\u001b[39mcopy\n\u001b[1;32m    774\u001b[0m     )\n\u001b[1;32m    776\u001b[0m \u001b[38;5;28;01melif\u001b[39;00m \u001b[38;5;28misinstance\u001b[39m(data, \u001b[38;5;28mdict\u001b[39m):\n\u001b[1;32m    777\u001b[0m     \u001b[38;5;66;03m# GH#38939 de facto copy defaults to False only in non-dict cases\u001b[39;00m\n\u001b[0;32m--> 778\u001b[0m     mgr \u001b[38;5;241m=\u001b[39m \u001b[43mdict_to_mgr\u001b[49m\u001b[43m(\u001b[49m\u001b[43mdata\u001b[49m\u001b[43m,\u001b[49m\u001b[43m \u001b[49m\u001b[43mindex\u001b[49m\u001b[43m,\u001b[49m\u001b[43m \u001b[49m\u001b[43mcolumns\u001b[49m\u001b[43m,\u001b[49m\u001b[43m \u001b[49m\u001b[43mdtype\u001b[49m\u001b[38;5;241;43m=\u001b[39;49m\u001b[43mdtype\u001b[49m\u001b[43m,\u001b[49m\u001b[43m \u001b[49m\u001b[43mcopy\u001b[49m\u001b[38;5;241;43m=\u001b[39;49m\u001b[43mcopy\u001b[49m\u001b[43m,\u001b[49m\u001b[43m \u001b[49m\u001b[43mtyp\u001b[49m\u001b[38;5;241;43m=\u001b[39;49m\u001b[43mmanager\u001b[49m\u001b[43m)\u001b[49m\n\u001b[1;32m    779\u001b[0m \u001b[38;5;28;01melif\u001b[39;00m \u001b[38;5;28misinstance\u001b[39m(data, ma\u001b[38;5;241m.\u001b[39mMaskedArray):\n\u001b[1;32m    780\u001b[0m     \u001b[38;5;28;01mfrom\u001b[39;00m\u001b[38;5;250m \u001b[39m\u001b[38;5;21;01mnumpy\u001b[39;00m\u001b[38;5;21;01m.\u001b[39;00m\u001b[38;5;21;01mma\u001b[39;00m\u001b[38;5;250m \u001b[39m\u001b[38;5;28;01mimport\u001b[39;00m mrecords\n",
      "File \u001b[0;32m~/.local/lib/python3.11/site-packages/pandas/core/internals/construction.py:503\u001b[0m, in \u001b[0;36mdict_to_mgr\u001b[0;34m(data, index, columns, dtype, typ, copy)\u001b[0m\n\u001b[1;32m    499\u001b[0m     \u001b[38;5;28;01melse\u001b[39;00m:\n\u001b[1;32m    500\u001b[0m         \u001b[38;5;66;03m# dtype check to exclude e.g. range objects, scalars\u001b[39;00m\n\u001b[1;32m    501\u001b[0m         arrays \u001b[38;5;241m=\u001b[39m [x\u001b[38;5;241m.\u001b[39mcopy() \u001b[38;5;28;01mif\u001b[39;00m \u001b[38;5;28mhasattr\u001b[39m(x, \u001b[38;5;124m\"\u001b[39m\u001b[38;5;124mdtype\u001b[39m\u001b[38;5;124m\"\u001b[39m) \u001b[38;5;28;01melse\u001b[39;00m x \u001b[38;5;28;01mfor\u001b[39;00m x \u001b[38;5;129;01min\u001b[39;00m arrays]\n\u001b[0;32m--> 503\u001b[0m \u001b[38;5;28;01mreturn\u001b[39;00m \u001b[43marrays_to_mgr\u001b[49m\u001b[43m(\u001b[49m\u001b[43marrays\u001b[49m\u001b[43m,\u001b[49m\u001b[43m \u001b[49m\u001b[43mcolumns\u001b[49m\u001b[43m,\u001b[49m\u001b[43m \u001b[49m\u001b[43mindex\u001b[49m\u001b[43m,\u001b[49m\u001b[43m \u001b[49m\u001b[43mdtype\u001b[49m\u001b[38;5;241;43m=\u001b[39;49m\u001b[43mdtype\u001b[49m\u001b[43m,\u001b[49m\u001b[43m \u001b[49m\u001b[43mtyp\u001b[49m\u001b[38;5;241;43m=\u001b[39;49m\u001b[43mtyp\u001b[49m\u001b[43m,\u001b[49m\u001b[43m \u001b[49m\u001b[43mconsolidate\u001b[49m\u001b[38;5;241;43m=\u001b[39;49m\u001b[43mcopy\u001b[49m\u001b[43m)\u001b[49m\n",
      "File \u001b[0;32m~/.local/lib/python3.11/site-packages/pandas/core/internals/construction.py:114\u001b[0m, in \u001b[0;36marrays_to_mgr\u001b[0;34m(arrays, columns, index, dtype, verify_integrity, typ, consolidate)\u001b[0m\n\u001b[1;32m    111\u001b[0m \u001b[38;5;28;01mif\u001b[39;00m verify_integrity:\n\u001b[1;32m    112\u001b[0m     \u001b[38;5;66;03m# figure out the index, if necessary\u001b[39;00m\n\u001b[1;32m    113\u001b[0m     \u001b[38;5;28;01mif\u001b[39;00m index \u001b[38;5;129;01mis\u001b[39;00m \u001b[38;5;28;01mNone\u001b[39;00m:\n\u001b[0;32m--> 114\u001b[0m         index \u001b[38;5;241m=\u001b[39m \u001b[43m_extract_index\u001b[49m\u001b[43m(\u001b[49m\u001b[43marrays\u001b[49m\u001b[43m)\u001b[49m\n\u001b[1;32m    115\u001b[0m     \u001b[38;5;28;01melse\u001b[39;00m:\n\u001b[1;32m    116\u001b[0m         index \u001b[38;5;241m=\u001b[39m ensure_index(index)\n",
      "File \u001b[0;32m~/.local/lib/python3.11/site-packages/pandas/core/internals/construction.py:667\u001b[0m, in \u001b[0;36m_extract_index\u001b[0;34m(data)\u001b[0m\n\u001b[1;32m    664\u001b[0m         \u001b[38;5;28;01mraise\u001b[39;00m \u001b[38;5;167;01mValueError\u001b[39;00m(\u001b[38;5;124m\"\u001b[39m\u001b[38;5;124mPer-column arrays must each be 1-dimensional\u001b[39m\u001b[38;5;124m\"\u001b[39m)\n\u001b[1;32m    666\u001b[0m \u001b[38;5;28;01mif\u001b[39;00m \u001b[38;5;129;01mnot\u001b[39;00m indexes \u001b[38;5;129;01mand\u001b[39;00m \u001b[38;5;129;01mnot\u001b[39;00m raw_lengths:\n\u001b[0;32m--> 667\u001b[0m     \u001b[38;5;28;01mraise\u001b[39;00m \u001b[38;5;167;01mValueError\u001b[39;00m(\u001b[38;5;124m\"\u001b[39m\u001b[38;5;124mIf using all scalar values, you must pass an index\u001b[39m\u001b[38;5;124m\"\u001b[39m)\n\u001b[1;32m    669\u001b[0m \u001b[38;5;28;01mif\u001b[39;00m have_series:\n\u001b[1;32m    670\u001b[0m     index \u001b[38;5;241m=\u001b[39m union_indexes(indexes)\n",
      "\u001b[0;31mValueError\u001b[0m: If using all scalar values, you must pass an index"
     ]
    }
   ],
   "source": [
    "import pandas as pd\n",
    "all_data1 = {ticker:df['Open'] for ticker,df in all_data.items()}\n",
    "prices_df = pd.DataFrame(all_data1)\n",
    "prices_df"
   ]
  },
  {
   "cell_type": "code",
   "execution_count": 1,
   "metadata": {},
   "outputs": [
    {
     "ename": "NameError",
     "evalue": "name 'prices_df' is not defined",
     "output_type": "error",
     "traceback": [
      "\u001b[0;31m---------------------------------------------------------------------------\u001b[0m",
      "\u001b[0;31mNameError\u001b[0m                                 Traceback (most recent call last)",
      "Cell \u001b[0;32mIn[1], line 1\u001b[0m\n\u001b[0;32m----> 1\u001b[0m \u001b[43mprices_df\u001b[49m\u001b[38;5;241m.\u001b[39mcolumns \u001b[38;5;241m=\u001b[39m [\u001b[38;5;124m'\u001b[39m\u001b[38;5;124m台積電\u001b[39m\u001b[38;5;124m'\u001b[39m,\u001b[38;5;124m'\u001b[39m\u001b[38;5;124m聯電\u001b[39m\u001b[38;5;124m'\u001b[39m,\u001b[38;5;124m'\u001b[39m\u001b[38;5;124m聯發科\u001b[39m\u001b[38;5;124m'\u001b[39m,\u001b[38;5;124m'\u001b[39m\u001b[38;5;124m鴻海\u001b[39m\u001b[38;5;124m'\u001b[39m]\n\u001b[1;32m      2\u001b[0m prices_df1 \u001b[38;5;241m=\u001b[39m prices_df\u001b[38;5;241m.\u001b[39mdropna()\n\u001b[1;32m      3\u001b[0m prices_df1\n",
      "\u001b[0;31mNameError\u001b[0m: name 'prices_df' is not defined"
     ]
    }
   ],
   "source": [
    "prices_df.columns = ['台積電','聯電','聯發科','鴻海']\n",
    "prices_df1 = prices_df.dropna()\n",
    "prices_df1"
   ]
  },
  {
   "cell_type": "code",
   "execution_count": null,
   "metadata": {},
   "outputs": [],
   "source": [
    "prices_df1.info()"
   ]
  },
  {
   "cell_type": "code",
   "execution_count": null,
   "metadata": {},
   "outputs": [],
   "source": [
    "#對值做搜尋\n",
    "prices_df1.query('台積電>=500')"
   ]
  },
  {
   "cell_type": "code",
   "execution_count": null,
   "metadata": {},
   "outputs": [],
   "source": [
    "prices_df1.loc['2023-01-01':'2024-01-01']"
   ]
  },
  {
   "cell_type": "code",
   "execution_count": null,
   "metadata": {},
   "outputs": [],
   "source": [
    "prices_df1.loc['2023']"
   ]
  },
  {
   "cell_type": "code",
   "execution_count": null,
   "metadata": {},
   "outputs": [],
   "source": [
    "prices_df1_202305 = prices_df1.loc['2023-05']"
   ]
  },
  {
   "cell_type": "code",
   "execution_count": null,
   "metadata": {},
   "outputs": [],
   "source": [
    "#平均差\n",
    "prices_pct_change = prices_df1_202305.pct_change()\n",
    "prices_pct_change"
   ]
  },
  {
   "cell_type": "code",
   "execution_count": null,
   "metadata": {},
   "outputs": [],
   "source": [
    "#差\n",
    "prices_df1_202305 - prices_df1_202305.shift(1)#今天減往下移一天"
   ]
  },
  {
   "cell_type": "code",
   "execution_count": null,
   "metadata": {},
   "outputs": [],
   "source": [
    "#相關係數\n",
    "prices_pct_change.corr()"
   ]
  },
  {
   "cell_type": "code",
   "execution_count": null,
   "metadata": {},
   "outputs": [],
   "source": [
    "#自動建立figure\n",
    "#自動產生Axes\n",
    "#欄位legend\n",
    "#索引變為軸\n",
    "\n",
    "prices_pct_change.plot()"
   ]
  }
 ],
 "metadata": {
  "kernelspec": {
   "display_name": "Python 3",
   "language": "python",
   "name": "python3"
  },
  "language_info": {
   "codemirror_mode": {
    "name": "ipython",
    "version": 3
   },
   "file_extension": ".py",
   "mimetype": "text/x-python",
   "name": "python",
   "nbconvert_exporter": "python",
   "pygments_lexer": "ipython3",
   "version": "3.11.11"
  }
 },
 "nbformat": 4,
 "nbformat_minor": 2
}
