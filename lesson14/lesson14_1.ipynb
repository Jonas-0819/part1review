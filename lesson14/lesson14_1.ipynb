{
 "cells": [
  {
   "cell_type": "code",
   "execution_count": 1,
   "metadata": {},
   "outputs": [
    {
     "data": {
      "text/plain": [
       "[1, 3, 5, 7, 9, 3, 5, 6, 7, 9]"
      ]
     },
     "execution_count": 1,
     "metadata": {},
     "output_type": "execute_result"
    }
   ],
   "source": [
    "list_a = [1, 3, 5, 7, 9]\n",
    "list_b = [3, 5, 6, 7, 9]\n",
    "list_a + list_b"
   ]
  },
  {
   "cell_type": "code",
   "execution_count": 2,
   "metadata": {},
   "outputs": [
    {
     "data": {
      "text/plain": [
       "array([ 4,  8, 11, 14, 18])"
      ]
     },
     "execution_count": 2,
     "metadata": {},
     "output_type": "execute_result"
    }
   ],
   "source": [
    "import numpy as np\n",
    "array_a = np.array([1, 3, 5, 7, 9])\n",
    "array_b = np.array([3, 5, 6, 7, 9])\n",
    "type(array_a)\n",
    "array_a + array_b"
   ]
  },
  {
   "cell_type": "code",
   "execution_count": 3,
   "metadata": {},
   "outputs": [
    {
     "data": {
      "text/plain": [
       "(2, (2, 3), 6, dtype('int64'))"
      ]
     },
     "execution_count": 3,
     "metadata": {},
     "output_type": "execute_result"
    }
   ],
   "source": [
    "import numpy as np\n",
    "l=[[1,2,3],[4,5,6]]\n",
    "array = np.array(l)\n",
    "array.ndim, array.shape, array.size, array.dtype"
   ]
  },
  {
   "cell_type": "code",
   "execution_count": 4,
   "metadata": {},
   "outputs": [
    {
     "data": {
      "text/plain": [
       "array([[-0.50270773,  1.46851852,  0.32094436, -0.49595946,  2.27914077],\n",
       "       [-0.81029303,  3.2312495 , -0.86942357, -0.05419794,  0.11049482],\n",
       "       [ 1.01261329,  1.11253192, -0.44354354,  0.62179326,  0.47173911],\n",
       "       [-0.9983894 ,  0.08283391,  0.56645637,  0.74530057,  0.4816456 ],\n",
       "       [-0.98212722, -1.25865692, -1.4076804 , -0.05736333, -1.11545456],\n",
       "       [ 0.58143414, -0.80351234,  0.44185748,  0.99893607, -0.84756431],\n",
       "       [ 0.79172377, -0.3190465 , -1.79191606, -0.13765677,  0.0631052 ],\n",
       "       [ 0.94473377, -0.38137513, -0.22232609, -0.17716526,  0.04969756],\n",
       "       [ 0.19340601,  1.74846809, -0.12545348,  0.83093584,  0.52053693],\n",
       "       [-0.26273608,  0.02237499,  0.93905877,  0.00976597, -1.03158437]])"
      ]
     },
     "execution_count": 4,
     "metadata": {},
     "output_type": "execute_result"
    }
   ],
   "source": [
    "import numpy as np\n",
    "np.random.randn(10,5)"
   ]
  },
  {
   "cell_type": "code",
   "execution_count": null,
   "metadata": {},
   "outputs": [],
   "source": [
    "scores=np.random.randint(50,101,size=(50,5))\n",
    "scores"
   ]
  },
  {
   "cell_type": "code",
   "execution_count": 11,
   "metadata": {},
   "outputs": [
    {
     "data": {
      "text/plain": [
       "array([[100,  81,  64,  59,  90],\n",
       "       [ 94,  84,  89,  54,  66],\n",
       "       [ 61,  78,  98,  72,  99],\n",
       "       [ 73,  64,  79,  71,  85],\n",
       "       [ 55,  52,  81,  85,  55]])"
      ]
     },
     "execution_count": 11,
     "metadata": {},
     "output_type": "execute_result"
    }
   ],
   "source": [
    "#第一個學生\n",
    "scores[0,:]\n",
    "#前5個學生\n",
    "scores[:5,:]\n",
    "#最後5個學生\n",
    "scores[-5:,:]"
   ]
  },
  {
   "cell_type": "code",
   "execution_count": 12,
   "metadata": {},
   "outputs": [
    {
     "data": {
      "text/plain": [
       "array([ 57,  78,  52,  66,  88,  69,  87,  70,  71,  97,  68,  78,  82,\n",
       "        63,  61,  74,  62,  81,  71,  97,  89,  62,  76,  75,  73, 100,\n",
       "        75,  93,  87,  82,  93,  65,  91, 100,  66,  55,  72,  61,  66,\n",
       "       100,  97,  86,  60,  82,  52, 100,  94,  61,  73,  55])"
      ]
     },
     "execution_count": 12,
     "metadata": {},
     "output_type": "execute_result"
    }
   ],
   "source": [
    "#全班第1科的分數\n",
    "scores[:,0]"
   ]
  },
  {
   "cell_type": "code",
   "execution_count": 13,
   "metadata": {},
   "outputs": [
    {
     "data": {
      "text/plain": [
       "array([366, 435, 386, 365, 403, 375, 427, 372, 384, 409, 368, 341, 341,\n",
       "       344, 427, 411, 362, 311, 377, 399, 395, 376, 375, 326, 356, 346,\n",
       "       372, 398, 381, 383, 360, 351, 454, 404, 336, 391, 413, 325, 395,\n",
       "       368, 365, 417, 425, 311, 361, 394, 387, 408, 372, 328])"
      ]
     },
     "execution_count": 13,
     "metadata": {},
     "output_type": "execute_result"
    }
   ],
   "source": [
    "#每位學生的總分\n",
    "total = scores[:,0] + scores[:,1] + scores[:,2] + scores[:,3] + scores[:,4] \n",
    "total"
   ]
  },
  {
   "cell_type": "code",
   "execution_count": 15,
   "metadata": {},
   "outputs": [
    {
     "data": {
      "text/plain": [
       "array([73.2, 87. , 77.2, 73. , 80.6, 75. , 85.4, 74.4, 76.8, 81.8, 73.6,\n",
       "       68.2, 68.2, 68.8, 85.4, 82.2, 72.4, 62.2, 75.4, 79.8, 79. , 75.2,\n",
       "       75. , 65.2, 71.2, 69.2, 74.4, 79.6, 76.2, 76.6, 72. , 70.2, 90.8,\n",
       "       80.8, 67.2, 78.2, 82.6, 65. , 79. , 73.6, 73. , 83.4, 85. , 62.2,\n",
       "       72.2, 78.8, 77.4, 81.6, 74.4, 65.6])"
      ]
     },
     "execution_count": 15,
     "metadata": {},
     "output_type": "execute_result"
    }
   ],
   "source": [
    "#每個學生平均\n",
    "np.mean(scores,axis=1)"
   ]
  },
  {
   "cell_type": "code",
   "execution_count": null,
   "metadata": {},
   "outputs": [],
   "source": []
  }
 ],
 "metadata": {
  "kernelspec": {
   "display_name": "Python 3",
   "language": "python",
   "name": "python3"
  },
  "language_info": {
   "codemirror_mode": {
    "name": "ipython",
    "version": 3
   },
   "file_extension": ".py",
   "mimetype": "text/x-python",
   "name": "python",
   "nbconvert_exporter": "python",
   "pygments_lexer": "ipython3",
   "version": "3.11.11"
  }
 },
 "nbformat": 4,
 "nbformat_minor": 2
}
