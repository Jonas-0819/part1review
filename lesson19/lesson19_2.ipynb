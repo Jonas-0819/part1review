{
 "cells": [
  {
   "cell_type": "code",
   "execution_count": 1,
   "metadata": {},
   "outputs": [
    {
     "data": {
      "text/plain": [
       "['每日各站進出站人數2020.csv',\n",
       " 'schema.csv',\n",
       " 'manifest.csv',\n",
       " '每日各站進出站人數20190423-20191231.csv',\n",
       " '每日各站進出站人數2023.csv',\n",
       " '每日各站進出站人數2021.csv',\n",
       " '每日各站進出站人數2022.csv']"
      ]
     },
     "execution_count": 1,
     "metadata": {},
     "output_type": "execute_result"
    }
   ],
   "source": [
    "import os\n",
    "current_dir=os.getcwd()\n",
    "csv_dir=os.path.join(current_dir,'每日各站進出站人數')\n",
    "files_and_dirs=os.listdir(csv_dir)\n",
    "files_and_dirs"
   ]
  },
  {
   "cell_type": "code",
   "execution_count": 4,
   "metadata": {},
   "outputs": [
    {
     "name": "stdout",
     "output_type": "stream",
     "text": [
      "每日各站進出站人數2020.csv\n",
      "每日各站進出站人數20190423-20191231.csv\n",
      "每日各站進出站人數2023.csv\n",
      "每日各站進出站人數2021.csv\n",
      "每日各站進出站人數2022.csv\n"
     ]
    }
   ],
   "source": [
    "for filename in files_and_dirs:\n",
    "    if '每日各站進出站人數' in filename:\n",
    "        print(filename)"
   ]
  },
  {
   "cell_type": "code",
   "execution_count": 6,
   "metadata": {},
   "outputs": [],
   "source": [
    "all_csv_files=[filename for filename in files_and_dirs if '每日各站進出站人數' in filename]"
   ]
  },
  {
   "cell_type": "code",
   "execution_count": 7,
   "metadata": {},
   "outputs": [],
   "source": [
    "sorted_csv_files=sorted(all_csv_files)#檔案由小到大"
   ]
  },
  {
   "cell_type": "code",
   "execution_count": 10,
   "metadata": {},
   "outputs": [
    {
     "name": "stdout",
     "output_type": "stream",
     "text": [
      "/workspaces/part1review/lesson19/每日各站進出站人數/每日各站進出站人數20190423-20191231.csv\n",
      "/workspaces/part1review/lesson19/每日各站進出站人數/每日各站進出站人數2020.csv\n",
      "/workspaces/part1review/lesson19/每日各站進出站人數/每日各站進出站人數2021.csv\n",
      "/workspaces/part1review/lesson19/每日各站進出站人數/每日各站進出站人數2022.csv\n",
      "/workspaces/part1review/lesson19/每日各站進出站人數/每日各站進出站人數2023.csv\n"
     ]
    }
   ],
   "source": [
    "def parse_filename(filename):\n",
    "    print(filename)\n",
    "for filename in sorted_csv_files:\n",
    "    abs_filename=os.path.join(csv_dir,filename)\n",
    "    parse_filename(abs_filename)"
   ]
  },
  {
   "cell_type": "code",
   "execution_count": null,
   "metadata": {},
   "outputs": [],
   "source": []
  }
 ],
 "metadata": {
  "kernelspec": {
   "display_name": "Python 3",
   "language": "python",
   "name": "python3"
  },
  "language_info": {
   "codemirror_mode": {
    "name": "ipython",
    "version": 3
   },
   "file_extension": ".py",
   "mimetype": "text/x-python",
   "name": "python",
   "nbconvert_exporter": "python",
   "pygments_lexer": "ipython3",
   "version": "3.11.11"
  }
 },
 "nbformat": 4,
 "nbformat_minor": 2
}
