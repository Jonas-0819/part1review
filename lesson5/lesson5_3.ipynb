{
 "cells": [
  {
   "cell_type": "code",
   "execution_count": 1,
   "metadata": {},
   "outputs": [
    {
     "name": "stdout",
     "output_type": "stream",
     "text": [
      "5_10_15\n"
     ]
    }
   ],
   "source": [
    "(x,y,z)=(5,10,15)\n",
    "print(x,y,z,sep='_')"
   ]
  },
  {
   "cell_type": "code",
   "execution_count": 2,
   "metadata": {},
   "outputs": [
    {
     "name": "stdout",
     "output_type": "stream",
     "text": [
      "5_10_15.\n"
     ]
    }
   ],
   "source": [
    "(x,y,z)=(5,10,15)\n",
    "print(x,y,z,sep='_',end=\".\\n\")"
   ]
  },
  {
   "cell_type": "code",
   "execution_count": 3,
   "metadata": {},
   "outputs": [
    {
     "name": "stdout",
     "output_type": "stream",
     "text": [
      "max=8,min=5\n"
     ]
    }
   ],
   "source": [
    "value1=int(input(\"請輸入第一個數\"))\n",
    "value2=int(input(\"請輸入第二個數\"))\n",
    "if value1>value2:\n",
    "    max=value1\n",
    "    min=value2\n",
    "else:\n",
    "    min=value1\n",
    "    max=value2\n",
    "print(f\"max={max},min={min}\")"
   ]
  },
  {
   "cell_type": "code",
   "execution_count": 5,
   "metadata": {},
   "outputs": [
    {
     "name": "stdout",
     "output_type": "stream",
     "text": [
      "max=8,min=5\n"
     ]
    }
   ],
   "source": [
    "value1=int(input(\"請輸入第一個數\"))\n",
    "value2=int(input(\"請輸入第二個數\"))\n",
    "(max,min)=(value1,value2) if value1>=value2 else (value2,value1)\n",
    "print(f\"max={max},min={min}\")"
   ]
  },
  {
   "cell_type": "code",
   "execution_count": 8,
   "metadata": {},
   "outputs": [
    {
     "name": "stdout",
     "output_type": "stream",
     "text": [
      "total=55\n"
     ]
    }
   ],
   "source": [
    "total=0\n",
    "i=1\n",
    "while i<=10:\n",
    "    total+=i\n",
    "    i+=1\n",
    "print(f\"total={total}\")"
   ]
  }
 ],
 "metadata": {
  "kernelspec": {
   "display_name": "Python 3",
   "language": "python",
   "name": "python3"
  },
  "language_info": {
   "codemirror_mode": {
    "name": "ipython",
    "version": 3
   },
   "file_extension": ".py",
   "mimetype": "text/x-python",
   "name": "python",
   "nbconvert_exporter": "python",
   "pygments_lexer": "ipython3",
   "version": "3.11.11"
  }
 },
 "nbformat": 4,
 "nbformat_minor": 2
}
