{
 "cells": [
  {
   "cell_type": "code",
   "execution_count": 1,
   "metadata": {},
   "outputs": [
    {
     "name": "stdout",
     "output_type": "stream",
     "text": [
      "1\n",
      "5\n"
     ]
    }
   ],
   "source": [
    "value1=int(input(\"請輸入第一個數\"))\n",
    "value2=int(input(\"請輸入第二個數\"))\n",
    "(max,min)=(value1,value2) if value1>=value2 else (value2,value1)\n",
    "for i in range(1,min+1):\n",
    "    if max%i==0 and min%i==0:\n",
    "        print(i)"
   ]
  },
  {
   "cell_type": "code",
   "execution_count": 2,
   "metadata": {},
   "outputs": [
    {
     "name": "stdout",
     "output_type": "stream",
     "text": [
      "花2個月存了30001元\n"
     ]
    }
   ],
   "source": [
    "sum=0\n",
    "t=0\n",
    "while sum<30000:\n",
    "    money=int(input(\"請輸入這個月的存款\"))\n",
    "    sum=sum+money\n",
    "    t+=1\n",
    "print(f\"花{t}個月存了{sum}元\")\n"
   ]
  },
  {
   "cell_type": "code",
   "execution_count": 7,
   "metadata": {},
   "outputs": [
    {
     "name": "stdout",
     "output_type": "stream",
     "text": [
      "T\n",
      "A\n",
      "I\n",
      "W\n",
      "A\n",
      "N\n"
     ]
    }
   ],
   "source": [
    "word=input(\"請輸入單字，按Q離開\")\n",
    "while word!=\"q\":\n",
    "    print(word.capitalize())\n",
    "    word=input(\"請輸入單字，按Q離開\")\n"
   ]
  },
  {
   "cell_type": "code",
   "execution_count": 11,
   "metadata": {},
   "outputs": [
    {
     "name": "stdout",
     "output_type": "stream",
     "text": [
      "T\n",
      "A\n",
      "I\n",
      "W\n",
      "A\n",
      "N\n"
     ]
    }
   ],
   "source": [
    "while True:\n",
    "    word=input(\"請輸入單字，按Q離開\")\n",
    "    if word=='q':\n",
    "        break\n",
    "    else:    \n",
    "        print(word.capitalize())\n",
    "        continue\n"
   ]
  }
 ],
 "metadata": {
  "kernelspec": {
   "display_name": "Python 3",
   "language": "python",
   "name": "python3"
  },
  "language_info": {
   "codemirror_mode": {
    "name": "ipython",
    "version": 3
   },
   "file_extension": ".py",
   "mimetype": "text/x-python",
   "name": "python",
   "nbconvert_exporter": "python",
   "pygments_lexer": "ipython3",
   "version": "3.11.11"
  }
 },
 "nbformat": 4,
 "nbformat_minor": 2
}
