{
 "cells": [
  {
   "cell_type": "code",
   "execution_count": null,
   "metadata": {},
   "outputs": [],
   "source": [
    "import csv\n",
    "from pprint import pprint\n",
    "with open('abc.csv',encoding='utf-8',newline='')as file:\n",
    "    #content=file.read()\n",
    "    reader=csv.reader(file)\n",
    "    contents:list=list(reader)\n",
    "    \n",
    "pprint(contents)\n"
   ]
  },
  {
   "cell_type": "code",
   "execution_count": null,
   "metadata": {},
   "outputs": [],
   "source": [
    "import csv\n",
    "from pprint import pprint\n",
    "with open('abc.csv',encoding='utf-8',newline='')as file:\n",
    "    #content=file.read()\n",
    "    dictReader=csv.DictReader(file)\n",
    "    contents:list=list(dictReader)\n",
    "    \n",
    "pprint(contents)"
   ]
  },
  {
   "cell_type": "code",
   "execution_count": null,
   "metadata": {},
   "outputs": [],
   "source": [
    "for item in contents:\n",
    "    print(item)"
   ]
  },
  {
   "cell_type": "code",
   "execution_count": 10,
   "metadata": {},
   "outputs": [
    {
     "name": "stdout",
     "output_type": "stream",
     "text": [
      "{'成交筆數': '6,743',\n",
      " '成交股數': '10,816,881',\n",
      " '成交金額': '868,126,524',\n",
      " '收盤價': '79.50',\n",
      " '最低價': '78.50',\n",
      " '最高價': '81.80',\n",
      " '漲跌價差': '+0.90',\n",
      " '證券代號': '9958',\n",
      " '證券名稱': '世紀鋼',\n",
      " '開盤價': '81.00'}\n"
     ]
    }
   ],
   "source": [
    "searchs:list=[]\n",
    "for item in contents:\n",
    "    if '元大'in item['證券名稱']:\n",
    "        searchs.append(item)\n",
    "\n",
    "pprint(item)"
   ]
  },
  {
   "cell_type": "code",
   "execution_count": 11,
   "metadata": {},
   "outputs": [
    {
     "data": {
      "text/plain": [
       "['證券代號', '證券名稱', '成交股數', '成交金額', '開盤價', '最高價', '最低價', '收盤價', '漲跌價差', '成交筆數']"
      ]
     },
     "execution_count": 11,
     "metadata": {},
     "output_type": "execute_result"
    }
   ],
   "source": [
    "searchs:list=[]\n",
    "for item in contents:\n",
    "    if '元大'in item['證券名稱']:\n",
    "        searchs.append(item)\n",
    "keys:list[str]=list(searchs[0].keys())\n",
    "keys"
   ]
  },
  {
   "cell_type": "code",
   "execution_count": 12,
   "metadata": {},
   "outputs": [],
   "source": [
    "with open('search.csv',mode='w',encoding='utf-8',newline='')as file:\n",
    "    dictWriter = csv.DictWriter(file,keys)\n",
    "    dictWriter.writeheader()\n",
    "    dictWriter.writerows(searchs)"
   ]
  }
 ],
 "metadata": {
  "kernelspec": {
   "display_name": "Python 3",
   "language": "python",
   "name": "python3"
  },
  "language_info": {
   "codemirror_mode": {
    "name": "ipython",
    "version": 3
   },
   "file_extension": ".py",
   "mimetype": "text/x-python",
   "name": "python",
   "nbconvert_exporter": "python",
   "pygments_lexer": "ipython3",
   "version": "3.11.11"
  }
 },
 "nbformat": 4,
 "nbformat_minor": 2
}
