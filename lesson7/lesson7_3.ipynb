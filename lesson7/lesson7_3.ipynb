{
 "cells": [
  {
   "cell_type": "code",
   "execution_count": 3,
   "metadata": {},
   "outputs": [
    {
     "data": {
      "text/plain": [
       "60"
      ]
     },
     "execution_count": 3,
     "metadata": {},
     "output_type": "execute_result"
    }
   ],
   "source": [
    "import random\n",
    "random.randint(1,100)"
   ]
  },
  {
   "cell_type": "code",
   "execution_count": 7,
   "metadata": {},
   "outputs": [
    {
     "name": "stdout",
     "output_type": "stream",
     "text": [
      "1到78\n",
      "35到78\n",
      "35到40\n",
      "35到40\n",
      "猜中了\n",
      "遊戲結束\n"
     ]
    }
   ],
   "source": [
    "import random\n",
    "min=1\n",
    "max=100\n",
    "point=random.randint(1,100)\n",
    "guess=int(input(\"猜1到100的一個數字\"))\n",
    "while True:\n",
    "    if point==guess:\n",
    "        print(\"猜中了\")\n",
    "        break\n",
    "    else:\n",
    "        if point>guess:\n",
    "            min=guess\n",
    "            print(f\"{min}到{max}\")\n",
    "            guess=int(input(\"猜1到100的一個數字\"))\n",
    "        else:\n",
    "            max=guess\n",
    "            print(f\"{min}到{max}\")\n",
    "            guess=int(input(\"猜1到100的一個數字\"))\n",
    "        continue\n",
    "print(\"遊戲結束\")\n"
   ]
  },
  {
   "cell_type": "code",
   "execution_count": 9,
   "metadata": {},
   "outputs": [
    {
     "name": "stdout",
     "output_type": "stream",
     "text": [
      "請輸入整數Number must be at maximum 100.\n",
      "請輸入整數99\n"
     ]
    }
   ],
   "source": [
    "import pyinputplus as pyip\n",
    "num=pyip.inputInt(\"請輸入整數\",min=1,max=100)\n",
    "print(num)"
   ]
  },
  {
   "cell_type": "code",
   "execution_count": 1,
   "metadata": {},
   "outputs": [
    {
     "name": "stdout",
     "output_type": "stream",
     "text": [
      "請輸入整數Blank values are not allowed.\n",
      "請輸入整數1到50\n",
      "請輸入整數1到50\n",
      "請輸入整數25到50\n",
      "請輸入整數25到50\n",
      "請輸入整數35到50\n",
      "請輸入整數35到50\n",
      "請輸入整數35到50\n",
      "請輸入整數45到50\n",
      "請輸入整數45到50\n",
      "請輸入整數45到48\n",
      "請輸入整數45到48\n",
      "請輸入整數45到47\n",
      "請輸入整數45到47\n",
      "請輸入整數45到47\n",
      "請輸入整數猜中了\n",
      "遊戲結束\n"
     ]
    }
   ],
   "source": [
    "import random\n",
    "import pyinputplus as pyip\n",
    "max=100\n",
    "min=1\n",
    "point=random.randint(1,100)\n",
    "guess=pyip.inputInt(\"請輸入整數\",min=1,max=100)\n",
    "while True:\n",
    "    if point==guess:\n",
    "        print(\"猜中了\")\n",
    "        break\n",
    "    else:\n",
    "        if point>guess:\n",
    "            min=guess\n",
    "            print(f\"{min}到{max}\")\n",
    "            guess=pyip.inputInt(\"請輸入整數\",min=1,max=100)\n",
    "        else:\n",
    "            max=guess\n",
    "            print(f\"{min}到{max}\")\n",
    "            guess=pyip.inputInt(\"請輸入整數\",min=1,max=100)\n",
    "        continue\n",
    "print(\"遊戲結束\")\n"
   ]
  }
 ],
 "metadata": {
  "kernelspec": {
   "display_name": "Python 3",
   "language": "python",
   "name": "python3"
  },
  "language_info": {
   "codemirror_mode": {
    "name": "ipython",
    "version": 3
   },
   "file_extension": ".py",
   "mimetype": "text/x-python",
   "name": "python",
   "nbconvert_exporter": "python",
   "pygments_lexer": "ipython3",
   "version": "3.11.11"
  }
 },
 "nbformat": 4,
 "nbformat_minor": 2
}
