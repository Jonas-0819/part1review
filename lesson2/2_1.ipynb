{
 "cells": [
  {
   "cell_type": "code",
   "execution_count": 1,
   "metadata": {},
   "outputs": [
    {
     "name": "stdout",
     "output_type": "stream",
     "text": [
      "寬25.8\n",
      "長19.25\n",
      "周長90.1\n",
      "面積496.65000000000003\n"
     ]
    }
   ],
   "source": [
    "width=25.8\n",
    "height=19.25\n",
    "length=(width+height)*2\n",
    "area=width*height\n",
    "print(\"寬\"+str(width))\n",
    "print(\"長\"+str(height))\n",
    "print(\"周長\"+str(length))\n",
    "print(\"面積\"+str(area))\n"
   ]
  },
  {
   "cell_type": "code",
   "execution_count": 3,
   "metadata": {},
   "outputs": [
    {
     "name": "stdout",
     "output_type": "stream",
     "text": [
      "寬25.8\n",
      "長19.25\n",
      "周長90\n",
      "面積496.65\n"
     ]
    }
   ],
   "source": [
    "width=25.8\n",
    "height=19.25\n",
    "length=round((width+height)*2)#會四捨五入\n",
    "area=round(width*height,ndigits=2)#會四捨五入到第二位\n",
    "print(\"寬\"+str(width))\n",
    "print(\"長\"+str(height))\n",
    "print(\"周長\"+str(length))\n",
    "print(\"面積\"+str(area))\n"
   ]
  },
  {
   "cell_type": "code",
   "execution_count": 2,
   "metadata": {},
   "outputs": [
    {
     "data": {
      "text/plain": [
       "str"
      ]
     },
     "execution_count": 2,
     "metadata": {},
     "output_type": "execute_result"
    }
   ],
   "source": [
    "a=input(\"輸入半徑\")\n",
    "type(a)"
   ]
  },
  {
   "cell_type": "code",
   "execution_count": 3,
   "metadata": {},
   "outputs": [
    {
     "name": "stdout",
     "output_type": "stream",
     "text": [
      "寬10.0\n",
      "長20.0\n",
      "周長60\n",
      "面積200.0\n"
     ]
    }
   ],
   "source": [
    "width=float(input(\"請輸入寬\"))\n",
    "height=float(input(\"請輸入高\"))\n",
    "length=round((width+height)*2)#會四捨五入\n",
    "area=round(width*height,ndigits=2)#會四捨五入到第二位\n",
    "print(\"寬\"+str(width))\n",
    "print(\"長\"+str(height))\n",
    "print(\"周長\"+str(length))\n",
    "print(\"面積\"+str(area))"
   ]
  },
  {
   "cell_type": "code",
   "execution_count": 5,
   "metadata": {},
   "outputs": [
    {
     "name": "stdout",
     "output_type": "stream",
     "text": [
      "對邊12.0\n",
      "斜邊13.0\n",
      "角度67.4\n"
     ]
    }
   ],
   "source": [
    "import math\n",
    "side=float(input(\"輸入對邊\"))\n",
    "side2=float(input(\"輸入斜邊\"))\n",
    "radian=math.asin(side/side2)\n",
    "degree=round(math.degrees(radian),ndigits=1)\n",
    "print(\"對邊\"+str(side))\n",
    "print(\"斜邊\"+str(side2))\n",
    "print(\"角度\"+str(degree))"
   ]
  }
 ],
 "metadata": {
  "kernelspec": {
   "display_name": "Python 3",
   "language": "python",
   "name": "python3"
  },
  "language_info": {
   "codemirror_mode": {
    "name": "ipython",
    "version": 3
   },
   "file_extension": ".py",
   "mimetype": "text/x-python",
   "name": "python",
   "nbconvert_exporter": "python",
   "pygments_lexer": "ipython3",
   "version": "3.12.1"
  }
 },
 "nbformat": 4,
 "nbformat_minor": 2
}
