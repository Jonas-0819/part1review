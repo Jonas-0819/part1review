{
 "cells": [
  {
   "cell_type": "code",
   "execution_count": 1,
   "metadata": {},
   "outputs": [
    {
     "name": "stderr",
     "output_type": "stream",
     "text": [
      "[*********************100%***********************]  1 of 1 completed\n",
      "[*********************100%***********************]  1 of 1 completed\n",
      "[*********************100%***********************]  1 of 1 completed\n",
      "[*********************100%***********************]  1 of 1 completed\n"
     ]
    }
   ],
   "source": [
    "import yfinance as yf\n",
    "import pandas as pd\n",
    "\n",
    "#國泰金(2882.TW),新光金(2888.TW),中信金(2891.TW),台新金(2887.TW)\n",
    "all_data = {ticker:yf.download(ticker) for ticker in ['2882.TW','2888.TW','2891.TW','2887.TW']}"
   ]
  },
  {
   "cell_type": "code",
   "execution_count": null,
   "metadata": {},
   "outputs": [],
   "source": [
    "all_data1 = {ticker:df['Adj Close'] for ticker,df in all_data.items()}\n",
    "prices_df = pd.DataFrame(all_data1)\n",
    "\n",
    "prices_df.columns = ['國泰金','新光金','中信金','台新金']\n",
    "prices_df1 = prices_df.dropna()\n",
    "prices_df1_2023 = prices_df1.loc['2023']\n",
    "\n",
    "#平均差\n",
    "prices_df1_2023_avg_diff = prices_df1_2023.pct_change()\n",
    "prices_df1_2023_avg_diff.dropna()\n",
    "\n",
    "#每日差\n",
    "prices_df1_2023_day_diff = prices_df1_2023 - prices_df1_2023.shift(1)\n",
    "prices_df1_2023_day_diff.dropna()\n",
    "\n",
    "#相關係數\n",
    "prices_df1_2023_avg_diff.corr()"
   ]
  },
  {
   "cell_type": "code",
   "execution_count": null,
   "metadata": {},
   "outputs": [],
   "source": [
    "prices_df1_2023"
   ]
  },
  {
   "cell_type": "code",
   "execution_count": null,
   "metadata": {},
   "outputs": [],
   "source": [
    "def call(s):\n",
    "    min = s.min()\n",
    "    max = s.max()\n",
    "    max_date = s.idxmax()\n",
    "    min_date = s.idxmin()\n",
    "    return pd.Series([max,max_date, min,min_date],index=['最高價','最高價日期','最低價','最低價日期'])\n",
    "\n",
    "df_high_low_value = prices_df1_2023.apply(call)\n",
    "df_high_low_value"
   ]
  },
  {
   "cell_type": "code",
   "execution_count": null,
   "metadata": {},
   "outputs": [],
   "source": [
    "def call(s):    \n",
    "    max = s.max()\n",
    "    max_date = s.idxmax()\n",
    "    max_year = max_date.year\n",
    "    max_month = max_date.month\n",
    "    max_day = max_date.day\n",
    "    max_str = f'{max:.4f} ({max_year}-{max_month}-{max_day})'\n",
    "    min = s.min()\n",
    "    min_date = s.idxmin()\n",
    "    min_year = min_date.year\n",
    "    min_month = min_date.month\n",
    "    min_day = min_date.day\n",
    "    min_str = f'{min:.4f} ({min_year}-{min_month}-{min_day})'\n",
    "    return pd.Series([max_str, min_str],index=['最高價','最低價'])\n",
    "\n",
    "df_high_low_value = prices_df1_2023.apply(call)\n",
    "df_high_low_value"
   ]
  }
 ],
 "metadata": {
  "kernelspec": {
   "display_name": "Python 3",
   "language": "python",
   "name": "python3"
  },
  "language_info": {
   "codemirror_mode": {
    "name": "ipython",
    "version": 3
   },
   "file_extension": ".py",
   "mimetype": "text/x-python",
   "name": "python",
   "nbconvert_exporter": "python",
   "pygments_lexer": "ipython3",
   "version": "3.11.11"
  }
 },
 "nbformat": 4,
 "nbformat_minor": 2
}
