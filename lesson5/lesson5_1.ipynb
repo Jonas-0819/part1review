{
 "cells": [
  {
   "cell_type": "code",
   "execution_count": 2,
   "metadata": {},
   "outputs": [
    {
     "name": "stdout",
     "output_type": "stream",
     "text": [
      "獎金為500\n"
     ]
    }
   ],
   "source": [
    "ch=int(input(\"請輸入國文成績\"))\n",
    "ma=int(input(\"請輸入數學成績\"))\n",
    "if ch==100 and ma==100:\n",
    "    bonus=1000\n",
    "elif ma==100 or ch==100:\n",
    "    bonus=500\n",
    "else:\n",
    "    bonus=0\n",
    "print(f\"獎金為{bonus}\")"
   ]
  },
  {
   "cell_type": "code",
   "execution_count": 4,
   "metadata": {},
   "outputs": [
    {
     "name": "stdout",
     "output_type": "stream",
     "text": [
      "血壓不正常\n"
     ]
    }
   ],
   "source": [
    "presure=int(input(\"請輸入血壓\"))\n",
    "if 80<=presure<=120:\n",
    "    con=\"正常\"\n",
    "else:\n",
    "    con=\"不正常\"\n",
    "print(f\"血壓{con}\")"
   ]
  }
 ],
 "metadata": {
  "kernelspec": {
   "display_name": "Python 3",
   "language": "python",
   "name": "python3"
  },
  "language_info": {
   "codemirror_mode": {
    "name": "ipython",
    "version": 3
   },
   "file_extension": ".py",
   "mimetype": "text/x-python",
   "name": "python",
   "nbconvert_exporter": "python",
   "pygments_lexer": "ipython3",
   "version": "3.11.11"
  }
 },
 "nbformat": 4,
 "nbformat_minor": 2
}
