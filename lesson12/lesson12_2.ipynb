{
 "cells": [
  {
   "cell_type": "code",
   "execution_count": null,
   "metadata": {},
   "outputs": [],
   "source": [
    "from pydantic import BaseModel, RootModel, Field\n",
    "from pprint import pprint\n",
    "\n",
    "#使用自訂的Fields的名稱\n",
    "class Station(BaseModel):\n",
    "    站名:str = Field(alias='sna')\n",
    "    行政區:str = Field(alias='sarea')\n",
    "    日期:str = Field(alias='mday')\n",
    "    地址:str = Field(alias='ar')\n",
    "    狀態:str = Field(alias='act')\n",
    "    總車輛數:int = Field(alias='total')\n",
    "    可借:int = Field(alias='available_rent_bikes')\n",
    "    可還:int = Field(alias='available_return_bikes')\n",
    "\n",
    "class Youbikes(RootModel):\n",
    "    root:list[Station]\n",
    "\n",
    "youbikes:Youbikes = Youbikes.model_validate_json(content)\n",
    "youbikes_list = youbikes.model_dump()\n",
    "pprint(youbikes_list)"
   ]
  }
 ],
 "metadata": {
  "kernelspec": {
   "display_name": "Python 3",
   "language": "python",
   "name": "python3"
  },
  "language_info": {
   "name": "python",
   "version": "3.11.11"
  }
 },
 "nbformat": 4,
 "nbformat_minor": 2
}
