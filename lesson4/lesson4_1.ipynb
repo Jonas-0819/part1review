{
 "cells": [
  {
   "cell_type": "code",
   "execution_count": 1,
   "metadata": {},
   "outputs": [
    {
     "name": "stdout",
     "output_type": "stream",
     "text": [
      "不能考駕照\n"
     ]
    }
   ],
   "source": [
    "age=17\n",
    "if age>=18:\n",
    "    print(\"可以考駕照\")\n",
    "else:\n",
    "    print(\"不能考駕照\")\n"
   ]
  },
  {
   "cell_type": "code",
   "execution_count": 5,
   "metadata": {},
   "outputs": [
    {
     "name": "stdout",
     "output_type": "stream",
     "text": [
      "最後得分為300\n"
     ]
    }
   ],
   "source": [
    "import math\n",
    "score=int(input(\"請輸入得分\"))\n",
    "added=input(\"是否需加分(y,n)\")\n",
    "if added==\"y\":\n",
    "    score*=1.05\n",
    "    f=math.ceil(score)\n",
    "    if score>=300:\n",
    "        f=300\n",
    "else:\n",
    "    f=score\n",
    "print(f\"最後得分為{f}\")"
   ]
  },
  {
   "cell_type": "code",
   "execution_count": 7,
   "metadata": {},
   "outputs": [
    {
     "name": "stdout",
     "output_type": "stream",
     "text": [
      "數字打成文字時的錯誤\n",
      "應用程式結束\n"
     ]
    }
   ],
   "source": [
    "import math\n",
    "try:\n",
    "    score=int(input(\"請輸入得分\"))\n",
    "except ValueError:\n",
    "    print(\"數字打成文字時的錯誤\")\n",
    "except Exception:\n",
    "    print(\"所有錯誤都會表現出來\")\n",
    "else:\n",
    "    added=input(\"是否需加分(y,n)\")\n",
    "    if added==\"y\":\n",
    "        score*=1.05\n",
    "        f=math.ceil(score)\n",
    "        if score>=300:\n",
    "            f=300\n",
    "        else:\n",
    "            f=score\n",
    "        print(f\"最後得分為{f}\")\n",
    "print(\"應用程式結束\")"
   ]
  },
  {
   "cell_type": "code",
   "execution_count": 10,
   "metadata": {},
   "outputs": [
    {
     "name": "stdout",
     "output_type": "stream",
     "text": [
      "不知名錯誤\n",
      "應用程式結束\n"
     ]
    }
   ],
   "source": [
    "import math\n",
    "try:\n",
    "    score=int(input(\"請輸入得分\"))\n",
    "    if score>300 or score<0:\n",
    "        raise Exception\n",
    "except ValueError:\n",
    "    print(\"數字打成文字時的錯誤\")\n",
    "except Exception:\n",
    "    print(\"不知名錯誤\")\n",
    "else:\n",
    "    added=input(\"是否需加分(y,n)\")\n",
    "    if added==\"y\":\n",
    "        score*=1.05\n",
    "        f=math.ceil(score)\n",
    "        print(f\"最後得分為{f}\")\n",
    "print(\"應用程式結束\")"
   ]
  }
 ],
 "metadata": {
  "kernelspec": {
   "display_name": "Python 3",
   "language": "python",
   "name": "python3"
  },
  "language_info": {
   "codemirror_mode": {
    "name": "ipython",
    "version": 3
   },
   "file_extension": ".py",
   "mimetype": "text/x-python",
   "name": "python",
   "nbconvert_exporter": "python",
   "pygments_lexer": "ipython3",
   "version": "3.11.11"
  }
 },
 "nbformat": 4,
 "nbformat_minor": 2
}
