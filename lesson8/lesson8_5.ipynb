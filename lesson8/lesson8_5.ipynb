{
 "cells": [
  {
   "cell_type": "code",
   "execution_count": 1,
   "metadata": {},
   "outputs": [
    {
     "data": {
      "text/plain": [
       "__main__.Person"
      ]
     },
     "execution_count": 1,
     "metadata": {},
     "output_type": "execute_result"
    }
   ],
   "source": [
    "class Person():\n",
    "    pass\n",
    "\n",
    "p1=Person()\n",
    "type(p1)\n",
    "p2=Person()\n",
    "type(p2)"
   ]
  },
  {
   "cell_type": "code",
   "execution_count": 8,
   "metadata": {},
   "outputs": [
    {
     "name": "stdout",
     "output_type": "stream",
     "text": [
      "我的名字叫:Jonas，國文為99，英文為98\n",
      "總分197\n",
      "平均98.5\n",
      "我的名字叫:温沐錦，國文為96，英文為97\n",
      "總分197\n",
      "平均98.5\n"
     ]
    }
   ],
   "source": [
    "class Person():\n",
    "    def __init__(self,name:str,c:int,e:int):\n",
    "        self.name=name\n",
    "        self.chinese=c\n",
    "        self.english=e\n",
    "\n",
    "    def sum(self)->int:\n",
    "        return self.chinese+self.english\n",
    "    \n",
    "    def average(self)->float:\n",
    "        return self.sum()/2.0\n",
    "    \n",
    "    def description(self)->str:\n",
    "        return f\"我的名字叫:{self.name}，國文為{self.chinese}，英文為{self.english}\"\n",
    "\n",
    "p1=Person(name=\"Jonas\",e=98,c=99)\n",
    "print(p1.description())\n",
    "print(f\"總分{p1.sum()}\")\n",
    "print(f\"平均{p1.average()}\")\n",
    "p2=Person(\"温沐錦\",96,97)\n",
    "print(p2.description())\n",
    "print(f\"總分{p1.sum()}\")\n",
    "print(f\"平均{p1.average()}\")"
   ]
  }
 ],
 "metadata": {
  "kernelspec": {
   "display_name": "Python 3",
   "language": "python",
   "name": "python3"
  },
  "language_info": {
   "codemirror_mode": {
    "name": "ipython",
    "version": 3
   },
   "file_extension": ".py",
   "mimetype": "text/x-python",
   "name": "python",
   "nbconvert_exporter": "python",
   "pygments_lexer": "ipython3",
   "version": "3.11.11"
  }
 },
 "nbformat": 4,
 "nbformat_minor": 2
}
