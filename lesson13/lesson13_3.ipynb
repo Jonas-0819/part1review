{
 "cells": [
  {
   "cell_type": "code",
   "execution_count": 2,
   "metadata": {},
   "outputs": [
    {
     "data": {
      "text/plain": [
       "[3, 6, 9, 12, 15]"
      ]
     },
     "execution_count": 2,
     "metadata": {},
     "output_type": "execute_result"
    }
   ],
   "source": [
    "values={1,2,3,4,5}\n",
    "multiply=3\n",
    "\n",
    "new_values=[]\n",
    "for i in values:\n",
    "    new_values.append(i*multiply)\n",
    "new_values"
   ]
  },
  {
   "cell_type": "code",
   "execution_count": 3,
   "metadata": {},
   "outputs": [
    {
     "data": {
      "text/plain": [
       "[3, 6, 9, 12, 15]"
      ]
     },
     "execution_count": 3,
     "metadata": {},
     "output_type": "execute_result"
    }
   ],
   "source": [
    "values={1,2,3,4,5}\n",
    "multiply=3\n",
    "\n",
    "new_values=[i*multiply for i in values]\n",
    "new_values"
   ]
  },
  {
   "cell_type": "code",
   "execution_count": 4,
   "metadata": {},
   "outputs": [
    {
     "data": {
      "text/plain": [
       "[1, 2, 3, 4, 5, 1, 2, 3, 4, 5, 1, 2, 3, 4, 5]"
      ]
     },
     "execution_count": 4,
     "metadata": {},
     "output_type": "execute_result"
    }
   ],
   "source": [
    "values = [1, 2, 3, 4, 5]\n",
    "multiply = 3\n",
    "values * multiply"
   ]
  },
  {
   "cell_type": "code",
   "execution_count": 5,
   "metadata": {},
   "outputs": [
    {
     "data": {
      "text/plain": [
       "array([0.157, 0.314, 0.471, 0.628, 0.785])"
      ]
     },
     "execution_count": 5,
     "metadata": {},
     "output_type": "execute_result"
    }
   ],
   "source": [
    "import numpy as np\n",
    "values_array=np.array([1,2,3,4,5])\n",
    "multiply=3\n",
    "values_array*multiply\n",
    "values_array*0.157"
   ]
  },
  {
   "cell_type": "code",
   "execution_count": 6,
   "metadata": {},
   "outputs": [
    {
     "data": {
      "text/plain": [
       "array([[55, 55, 58, 82, 67],\n",
       "       [58, 57, 51, 90, 74],\n",
       "       [72, 64, 88, 90, 76],\n",
       "       [69, 91, 98, 76, 64],\n",
       "       [94, 73, 68, 87, 66],\n",
       "       [70, 68, 52, 66, 97],\n",
       "       [56, 55, 93, 94, 70],\n",
       "       [60, 51, 80, 67, 58],\n",
       "       [93, 59, 92, 74, 60],\n",
       "       [97, 71, 81, 53, 56],\n",
       "       [62, 80, 88, 83, 87],\n",
       "       [61, 79, 50, 89, 57],\n",
       "       [84, 85, 87, 73, 65],\n",
       "       [98, 61, 52, 54, 81],\n",
       "       [61, 63, 86, 78, 83],\n",
       "       [99, 53, 66, 51, 84],\n",
       "       [94, 57, 67, 99, 62],\n",
       "       [89, 94, 63, 79, 73],\n",
       "       [86, 93, 78, 50, 69],\n",
       "       [64, 59, 77, 77, 71],\n",
       "       [84, 58, 71, 66, 64],\n",
       "       [58, 93, 57, 54, 51],\n",
       "       [92, 94, 93, 66, 91],\n",
       "       [84, 53, 58, 54, 99],\n",
       "       [73, 93, 98, 98, 60],\n",
       "       [84, 99, 78, 79, 75],\n",
       "       [72, 63, 96, 90, 90],\n",
       "       [64, 86, 61, 88, 99],\n",
       "       [95, 69, 76, 87, 99],\n",
       "       [52, 52, 79, 69, 88],\n",
       "       [93, 93, 69, 86, 53],\n",
       "       [51, 80, 87, 98, 93],\n",
       "       [57, 75, 58, 94, 79],\n",
       "       [69, 97, 64, 52, 50],\n",
       "       [70, 73, 56, 59, 94],\n",
       "       [50, 56, 50, 54, 68],\n",
       "       [85, 95, 64, 64, 82],\n",
       "       [53, 64, 69, 70, 83],\n",
       "       [78, 52, 50, 71, 66],\n",
       "       [85, 65, 81, 73, 74],\n",
       "       [62, 60, 81, 61, 86],\n",
       "       [93, 70, 77, 58, 65],\n",
       "       [59, 67, 95, 71, 71],\n",
       "       [82, 76, 51, 62, 98],\n",
       "       [72, 67, 61, 86, 68],\n",
       "       [61, 79, 80, 82, 97],\n",
       "       [79, 79, 81, 63, 81],\n",
       "       [76, 54, 71, 68, 79],\n",
       "       [89, 55, 54, 64, 57],\n",
       "       [78, 96, 58, 52, 66]])"
      ]
     },
     "execution_count": 6,
     "metadata": {},
     "output_type": "execute_result"
    }
   ],
   "source": [
    "import numpy as np\n",
    "np.random.randint(50,100,size=(50,5))"
   ]
  }
 ],
 "metadata": {
  "kernelspec": {
   "display_name": "Python 3",
   "language": "python",
   "name": "python3"
  },
  "language_info": {
   "codemirror_mode": {
    "name": "ipython",
    "version": 3
   },
   "file_extension": ".py",
   "mimetype": "text/x-python",
   "name": "python",
   "nbconvert_exporter": "python",
   "pygments_lexer": "ipython3",
   "version": "3.11.11"
  }
 },
 "nbformat": 4,
 "nbformat_minor": 2
}
