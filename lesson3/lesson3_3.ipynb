{
 "cells": [
  {
   "cell_type": "code",
   "execution_count": 4,
   "metadata": {},
   "outputs": [
    {
     "name": "stdout",
     "output_type": "stream",
     "text": [
      "54.0公斤等於90.0臺斤\n"
     ]
    }
   ],
   "source": [
    "kg_taiwan=float(input(\"請輸入臺斤\"))\n",
    "kg=kg_taiwan*0.6\n",
    "#print(str(kg)+\"公斤等於\"+str(kg_taiwan)+\"臺斤\")\n",
    "print(f\"{kg}公斤等於{kg_taiwan}臺斤\")"
   ]
  }
 ],
 "metadata": {
  "kernelspec": {
   "display_name": "Python 3",
   "language": "python",
   "name": "python3"
  },
  "language_info": {
   "codemirror_mode": {
    "name": "ipython",
    "version": 3
   },
   "file_extension": ".py",
   "mimetype": "text/x-python",
   "name": "python",
   "nbconvert_exporter": "python",
   "pygments_lexer": "ipython3",
   "version": "3.11.11"
  }
 },
 "nbformat": 4,
 "nbformat_minor": 2
}
